{
  "nbformat": 4,
  "nbformat_minor": 0,
  "metadata": {
    "colab": {
      "name": "tweet_emotion.ipynb",
      "provenance": [],
      "machine_shape": "hm",
      "authorship_tag": "ABX9TyMRX+2aLqWGV2kAH2v6HAS5",
      "include_colab_link": true
    },
    "kernelspec": {
      "name": "python3",
      "display_name": "Python 3"
    },
    "language_info": {
      "name": "python"
    },
    "accelerator": "GPU"
  },
  "cells": [
    {
      "cell_type": "markdown",
      "metadata": {
        "id": "view-in-github",
        "colab_type": "text"
      },
      "source": [
        "<a href=\"https://colab.research.google.com/github/shazzad-hasan/tensorflow-projects/blob/main/tweet_emotion.ipynb\" target=\"_parent\"><img src=\"https://colab.research.google.com/assets/colab-badge.svg\" alt=\"Open In Colab\"/></a>"
      ]
    },
    {
      "cell_type": "markdown",
      "source": [
        "In this notebook, we will train a model to recognize tweet emotion using the tweet emotion dataset. "
      ],
      "metadata": {
        "id": "u4QkWPcg9phN"
      }
    },
    {
      "cell_type": "code",
      "execution_count": 1,
      "metadata": {
        "id": "Zh2xjM0J8uRG",
        "outputId": "56514276-fd5e-4b19-eb27-be763b94b92a",
        "colab": {
          "base_uri": "https://localhost:8080/"
        }
      },
      "outputs": [
        {
          "output_type": "stream",
          "name": "stdout",
          "text": [
            "Looking in indexes: https://pypi.org/simple, https://us-python.pkg.dev/colab-wheels/public/simple/\n",
            "Requirement already satisfied: nlp in /usr/local/lib/python3.7/dist-packages (0.4.0)\n",
            "Requirement already satisfied: tqdm>=4.27 in /usr/local/lib/python3.7/dist-packages (from nlp) (4.64.0)\n",
            "Requirement already satisfied: dill in /usr/local/lib/python3.7/dist-packages (from nlp) (0.3.5.1)\n",
            "Requirement already satisfied: requests>=2.19.0 in /usr/local/lib/python3.7/dist-packages (from nlp) (2.23.0)\n",
            "Requirement already satisfied: pandas in /usr/local/lib/python3.7/dist-packages (from nlp) (1.3.5)\n",
            "Requirement already satisfied: filelock in /usr/local/lib/python3.7/dist-packages (from nlp) (3.7.0)\n",
            "Requirement already satisfied: pyarrow>=0.16.0 in /usr/local/lib/python3.7/dist-packages (from nlp) (6.0.1)\n",
            "Requirement already satisfied: numpy in /usr/local/lib/python3.7/dist-packages (from nlp) (1.21.6)\n",
            "Requirement already satisfied: xxhash in /usr/local/lib/python3.7/dist-packages (from nlp) (3.0.0)\n",
            "Requirement already satisfied: urllib3!=1.25.0,!=1.25.1,<1.26,>=1.21.1 in /usr/local/lib/python3.7/dist-packages (from requests>=2.19.0->nlp) (1.24.3)\n",
            "Requirement already satisfied: chardet<4,>=3.0.2 in /usr/local/lib/python3.7/dist-packages (from requests>=2.19.0->nlp) (3.0.4)\n",
            "Requirement already satisfied: certifi>=2017.4.17 in /usr/local/lib/python3.7/dist-packages (from requests>=2.19.0->nlp) (2022.5.18.1)\n",
            "Requirement already satisfied: idna<3,>=2.5 in /usr/local/lib/python3.7/dist-packages (from requests>=2.19.0->nlp) (2.10)\n",
            "Requirement already satisfied: python-dateutil>=2.7.3 in /usr/local/lib/python3.7/dist-packages (from pandas->nlp) (2.8.2)\n",
            "Requirement already satisfied: pytz>=2017.3 in /usr/local/lib/python3.7/dist-packages (from pandas->nlp) (2022.1)\n",
            "Requirement already satisfied: six>=1.5 in /usr/local/lib/python3.7/dist-packages (from python-dateutil>=2.7.3->pandas->nlp) (1.15.0)\n"
          ]
        }
      ],
      "source": [
        "!pip install nlp"
      ]
    },
    {
      "cell_type": "code",
      "source": [
        "# import required libraries\n",
        "\n",
        "import numpy as np\n",
        "import random\n",
        "import matplotlib.pyplot as plt\n",
        "\n",
        "%matplotlib inline"
      ],
      "metadata": {
        "id": "m2UyD7_l_gXv"
      },
      "execution_count": 2,
      "outputs": []
    },
    {
      "cell_type": "markdown",
      "source": [
        "### Load and visualize dataset"
      ],
      "metadata": {
        "id": "xq5kADUCUK1L"
      }
    },
    {
      "cell_type": "code",
      "source": [
        "import nlp\n",
        "\n",
        "# load tweet emotion dataset from huggingface nlp module\n",
        "dataset = nlp.load_dataset(\"emotion\")"
      ],
      "metadata": {
        "id": "s2CBixsBFZYH",
        "outputId": "9b975042-6c35-4a0a-967a-a66e90acc94b",
        "colab": {
          "base_uri": "https://localhost:8080/"
        }
      },
      "execution_count": 3,
      "outputs": [
        {
          "output_type": "stream",
          "name": "stderr",
          "text": [
            "Using custom data configuration default\n"
          ]
        }
      ]
    },
    {
      "cell_type": "code",
      "source": [
        "dataset"
      ],
      "metadata": {
        "id": "m5e-iqaqRDPo",
        "outputId": "a5dda436-7fbb-40bf-e5cc-709d7b381629",
        "colab": {
          "base_uri": "https://localhost:8080/"
        }
      },
      "execution_count": 4,
      "outputs": [
        {
          "output_type": "execute_result",
          "data": {
            "text/plain": [
              "{'test': Dataset(features: {'text': Value(dtype='string', id=None), 'label': Value(dtype='string', id=None)}, num_rows: 2000),\n",
              " 'train': Dataset(features: {'text': Value(dtype='string', id=None), 'label': Value(dtype='string', id=None)}, num_rows: 16000),\n",
              " 'validation': Dataset(features: {'text': Value(dtype='string', id=None), 'label': Value(dtype='string', id=None)}, num_rows: 2000)}"
            ]
          },
          "metadata": {},
          "execution_count": 4
        }
      ]
    },
    {
      "cell_type": "code",
      "source": [
        "train_data = dataset['train']\n",
        "valid_data = dataset['validation']\n",
        "test_data = dataset['test']"
      ],
      "metadata": {
        "id": "SA4bczcnLVKm"
      },
      "execution_count": 5,
      "outputs": []
    },
    {
      "cell_type": "code",
      "source": [
        "# obtain tweets and labels from the data\n",
        "def get_tweet(data):\n",
        "  tweets = [x['text'] for x in data] # obtain tweets\n",
        "  labels = [x['label'] for x in data] # obtain tweets labels\n",
        "  return tweets, labels\n",
        "\n",
        "# obtain training, validation and test  tweets, labels \n",
        "train_tweets, train_labels = get_tweet(train_data)\n",
        "valid_tweets, valid_labels = get_tweet(valid_data)\n",
        "test_tweets, test_labels = get_tweet(test_data)\n",
        "\n",
        "\n",
        "# let's see first 10 tweets and corresponding labels\n",
        "for i in range(10):\n",
        "  print(\"({}, {})\".format(train_tweets[i], train_labels[i]))"
      ],
      "metadata": {
        "id": "PO5cWTKlRBY_",
        "outputId": "0668cb63-213d-43a5-dbd3-0c60abb7035b",
        "colab": {
          "base_uri": "https://localhost:8080/"
        }
      },
      "execution_count": 6,
      "outputs": [
        {
          "output_type": "stream",
          "name": "stdout",
          "text": [
            "(i didnt feel humiliated, sadness)\n",
            "(i can go from feeling so hopeless to so damned hopeful just from being around someone who cares and is awake, sadness)\n",
            "(im grabbing a minute to post i feel greedy wrong, anger)\n",
            "(i am ever feeling nostalgic about the fireplace i will know that it is still on the property, love)\n",
            "(i am feeling grouchy, anger)\n",
            "(ive been feeling a little burdened lately wasnt sure why that was, sadness)\n",
            "(ive been taking or milligrams or times recommended amount and ive fallen asleep a lot faster but i also feel like so funny, surprise)\n",
            "(i feel as confused about life as a teenager or as jaded as a year old man, fear)\n",
            "(i have been with petronas for years i feel that petronas has performed well and made a huge profit, joy)\n",
            "(i feel romantic too, love)\n"
          ]
        }
      ]
    },
    {
      "cell_type": "code",
      "source": [
        ""
      ],
      "metadata": {
        "id": "x-1QBUB81FOu"
      },
      "execution_count": 6,
      "outputs": []
    },
    {
      "cell_type": "markdown",
      "source": [
        "### Pre-process the dataset"
      ],
      "metadata": {
        "id": "AqNDfcCMURxo"
      }
    },
    {
      "cell_type": "markdown",
      "source": [
        "#### Prepare tweets"
      ],
      "metadata": {
        "id": "Vinn7ftqfCzH"
      }
    },
    {
      "cell_type": "markdown",
      "source": [
        "##### Tokenize the tweets"
      ],
      "metadata": {
        "id": "9ZNfRZFWbuyP"
      }
    },
    {
      "cell_type": "code",
      "source": [
        "from tensorflow.keras.preprocessing.text import Tokenizer\n",
        "\n",
        "# let's tokenize 10,000 most commonly used words\n",
        "tokenizer = Tokenizer(num_words=1000, oov_token=\"UNK\")\n",
        "tokenizer.fit_on_texts(train_tweets)"
      ],
      "metadata": {
        "id": "KAnS8psxRBcO"
      },
      "execution_count": 7,
      "outputs": []
    },
    {
      "cell_type": "code",
      "source": [
        "# lets see the tokinization of a tweet\n",
        "print(\"{} ---> {}\".format(train_tweets[0], tokenizer.texts_to_sequences([train_tweets[0]])))"
      ],
      "metadata": {
        "id": "KH1-xRbEb6eQ",
        "outputId": "0969cf37-74c7-455b-cac9-6c4a97b5fb26",
        "colab": {
          "base_uri": "https://localhost:8080/"
        }
      },
      "execution_count": 8,
      "outputs": [
        {
          "output_type": "stream",
          "name": "stdout",
          "text": [
            "i didnt feel humiliated ---> [[2, 139, 3, 679]]\n"
          ]
        }
      ]
    },
    {
      "cell_type": "markdown",
      "source": [
        "##### Padding and Truncating sequences"
      ],
      "metadata": {
        "id": "-dnB-6XZbyq1"
      }
    },
    {
      "cell_type": "code",
      "source": [
        "# check length of the tweets\n",
        "lengths = [len(twt.split(\" \")) for twt in train_tweets]\n",
        "plt.hist(lengths, bins=len(set(lengths)))\n",
        "plt.show()"
      ],
      "metadata": {
        "id": "wAKET1tnRBhl",
        "outputId": "1dfdb241-1bea-4f8e-da67-caf36282b6a3",
        "colab": {
          "base_uri": "https://localhost:8080/",
          "height": 265
        }
      },
      "execution_count": 9,
      "outputs": [
        {
          "output_type": "display_data",
          "data": {
            "text/plain": [
              "<Figure size 432x288 with 1 Axes>"
            ],
            "image/png": "[encoded data removed]"
          },
          "metadata": {
            "needs_background": "light"
          }
        }
      ]
    },
    {
      "cell_type": "code",
      "source": [
        "from tensorflow.keras.preprocessing.sequence import pad_sequences\n",
        "\n",
        "maxlen = 50\n",
        "\n",
        "def get_sequences(tokenizer, tweets):\n",
        "  # tokenize tweets\n",
        "  sequences = tokenizer.texts_to_sequences(tweets)\n",
        "  # obtain padded and truncated sequences\n",
        "  padded_seqs = pad_sequences(sequences, truncating=\"post\", padding=\"post\", maxlen=maxlen)\n",
        "  return padded_seqs"
      ],
      "metadata": {
        "id": "vo-GTlIwZI6b"
      },
      "execution_count": 10,
      "outputs": []
    },
    {
      "cell_type": "code",
      "source": [
        "# obtain padded and truncated training sequences\n",
        "padded_train_seq = get_sequences(tokenizer, train_tweets)\n",
        "padded_valid_seq = get_sequences(tokenizer, valid_tweets)\n",
        "padded_test_seq = get_sequences(tokenizer, test_tweets)\n",
        "\n",
        "print(\"{}, \\n{}\".format(train_tweets[0], padded_train_seq[0]))"
      ],
      "metadata": {
        "id": "ty3OxRjEdCu1",
        "outputId": "faded559-0696-432f-c058-0d5da0597760",
        "colab": {
          "base_uri": "https://localhost:8080/"
        }
      },
      "execution_count": 11,
      "outputs": [
        {
          "output_type": "stream",
          "name": "stdout",
          "text": [
            "i didnt feel humiliated, \n",
            "[  2 139   3 679   0   0   0   0   0   0   0   0   0   0   0   0   0   0\n",
            "   0   0   0   0   0   0   0   0   0   0   0   0   0   0   0   0   0   0\n",
            "   0   0   0   0   0   0   0   0   0   0   0   0   0   0]\n"
          ]
        }
      ]
    },
    {
      "cell_type": "markdown",
      "source": [
        "#### Prepare labels"
      ],
      "metadata": {
        "id": "uzcU8qX2fILN"
      }
    },
    {
      "cell_type": "code",
      "source": [
        "classes = set(train_labels)\n",
        "print(classes)"
      ],
      "metadata": {
        "id": "-abhXUKDdl5m",
        "outputId": "92f8b230-d4e9-4902-daf5-6991be00234f",
        "colab": {
          "base_uri": "https://localhost:8080/"
        }
      },
      "execution_count": 12,
      "outputs": [
        {
          "output_type": "stream",
          "name": "stdout",
          "text": [
            "{'sadness', 'surprise', 'love', 'fear', 'joy', 'anger'}\n"
          ]
        }
      ]
    },
    {
      "cell_type": "code",
      "source": [
        "plt.hist(train_labels, bins=12)\n",
        "plt.show()"
      ],
      "metadata": {
        "id": "s2tmG6YYkwQn",
        "outputId": "92a23e4e-e3d1-4599-9abd-e7ff20183269",
        "colab": {
          "base_uri": "https://localhost:8080/",
          "height": 265
        }
      },
      "execution_count": 13,
      "outputs": [
        {
          "output_type": "display_data",
          "data": {
            "text/plain": [
              "<Figure size 432x288 with 1 Axes>"
            ],
            "image/png": "[encoded data removed]"
          },
          "metadata": {
            "needs_background": "light"
          }
        }
      ]
    },
    {
      "cell_type": "code",
      "source": [
        "class_to_idx = dict((c, i) for i, c in enumerate(classes))\n",
        "idx_to_class = dict((v, k) for k, v in class_to_idx.items())\n",
        "\n",
        "print(class_to_idx)\n",
        "print(idx_to_class)"
      ],
      "metadata": {
        "id": "Wl2Ix2kyk80f",
        "outputId": "a5fc027c-8ff4-499f-fc20-1601a2891f68",
        "colab": {
          "base_uri": "https://localhost:8080/"
        }
      },
      "execution_count": 14,
      "outputs": [
        {
          "output_type": "stream",
          "name": "stdout",
          "text": [
            "{'sadness': 0, 'surprise': 1, 'love': 2, 'fear': 3, 'joy': 4, 'anger': 5}\n",
            "{0: 'sadness', 1: 'surprise', 2: 'love', 3: 'fear', 4: 'joy', 5: 'anger'}\n"
          ]
        }
      ]
    },
    {
      "cell_type": "code",
      "source": [
        "names_to_ids = lambda labels: np.array([class_to_idx.get(x) for x in labels])\n",
        "\n",
        "train_labels = names_to_ids(train_labels)\n",
        "valid_labels = names_to_ids(valid_labels)\n",
        "test_labels = names_to_ids(test_labels)\n",
        "\n",
        "print(train_labels[0])"
      ],
      "metadata": {
        "id": "OdCobuLBl9jx",
        "outputId": "b76a5043-bc02-4bb2-c1cb-db1c2f0c2196",
        "colab": {
          "base_uri": "https://localhost:8080/"
        }
      },
      "execution_count": 15,
      "outputs": [
        {
          "output_type": "stream",
          "name": "stdout",
          "text": [
            "0\n"
          ]
        }
      ]
    },
    {
      "cell_type": "markdown",
      "source": [
        "### Define a neural network"
      ],
      "metadata": {
        "id": "Vty6NyyIplEH"
      }
    },
    {
      "cell_type": "code",
      "source": [
        "from tensorflow import keras\n",
        "from tensorflow.keras import layers\n",
        "\n",
        "model = keras.models.Sequential([\n",
        "            layers.Embedding(10000, 16, input_length=maxlen),\n",
        "            layers.Bidirectional(keras.layers.LSTM(20, return_sequences=True)),\n",
        "            layers.Bidirectional(keras.layers.LSTM(20)),\n",
        "            layers.Dense(6, activation=\"softmax\")\n",
        "])\n",
        "\n",
        "model.summary()"
      ],
      "metadata": {
        "id": "ccAnwNghmYvf",
        "outputId": "14466373-0b23-4ed8-9c85-9c27b1805a63",
        "colab": {
          "base_uri": "https://localhost:8080/"
        }
      },
      "execution_count": 16,
      "outputs": [
        {
          "output_type": "stream",
          "name": "stdout",
          "text": [
            "Model: \"sequential\"\n",
            "_________________________________________________________________\n",
            " Layer (type)                Output Shape              Param #   \n",
            "=================================================================\n",
            " embedding (Embedding)       (None, 50, 16)            160000    \n",
            "                                                                 \n",
            " bidirectional (Bidirectiona  (None, 50, 40)           5920      \n",
            " l)                                                              \n",
            "                                                                 \n",
            " bidirectional_1 (Bidirectio  (None, 40)               9760      \n",
            " nal)                                                            \n",
            "                                                                 \n",
            " dense (Dense)               (None, 6)                 246       \n",
            "                                                                 \n",
            "=================================================================\n",
            "Total params: 175,926\n",
            "Trainable params: 175,926\n",
            "Non-trainable params: 0\n",
            "_________________________________________________________________\n"
          ]
        }
      ]
    },
    {
      "cell_type": "code",
      "source": [
        "model.compile(optimizer=\"adam\", loss=\"sparse_categorical_crossentropy\", metrics=[\"accuracy\"])\n",
        "\n",
        "callbacks=[keras.callbacks.EarlyStopping(monitor=\"val_accuracy\", patience=2)]\n",
        "history = model.fit(padded_train_seq, train_labels, \n",
        "                    validation_data=(padded_valid_seq, valid_labels),\n",
        "                    epochs=20,\n",
        "                    callbacks=callbacks)"
      ],
      "metadata": {
        "id": "YOX4sIsRwwOs",
        "outputId": "bcac9524-93ec-43f1-bed7-9df325539397",
        "colab": {
          "base_uri": "https://localhost:8080/"
        }
      },
      "execution_count": 17,
      "outputs": [
        {
          "output_type": "stream",
          "name": "stdout",
          "text": [
            "Epoch 1/20\n",
            "500/500 [==============================] - 13s 14ms/step - loss: 1.3205 - accuracy: 0.4831 - val_loss: 0.8710 - val_accuracy: 0.6755\n",
            "Epoch 2/20\n",
            "500/500 [==============================] - 6s 11ms/step - loss: 0.7154 - accuracy: 0.7259 - val_loss: 0.6818 - val_accuracy: 0.7405\n",
            "Epoch 3/20\n",
            "500/500 [==============================] - 6s 11ms/step - loss: 0.5540 - accuracy: 0.8019 - val_loss: 0.5362 - val_accuracy: 0.8155\n",
            "Epoch 4/20\n",
            "500/500 [==============================] - 6s 12ms/step - loss: 0.4639 - accuracy: 0.8406 - val_loss: 0.4672 - val_accuracy: 0.8435\n",
            "Epoch 5/20\n",
            "500/500 [==============================] - 6s 12ms/step - loss: 0.3994 - accuracy: 0.8594 - val_loss: 0.4160 - val_accuracy: 0.8580\n",
            "Epoch 6/20\n",
            "500/500 [==============================] - 6s 12ms/step - loss: 0.3543 - accuracy: 0.8709 - val_loss: 0.4079 - val_accuracy: 0.8560\n",
            "Epoch 7/20\n",
            "500/500 [==============================] - 6s 12ms/step - loss: 0.3403 - accuracy: 0.8768 - val_loss: 0.3985 - val_accuracy: 0.8615\n",
            "Epoch 8/20\n",
            "500/500 [==============================] - 6s 12ms/step - loss: 0.3129 - accuracy: 0.8831 - val_loss: 0.4096 - val_accuracy: 0.8560\n",
            "Epoch 9/20\n",
            "500/500 [==============================] - 6s 11ms/step - loss: 0.3028 - accuracy: 0.8913 - val_loss: 0.3968 - val_accuracy: 0.8550\n"
          ]
        }
      ]
    },
    {
      "cell_type": "code",
      "source": [
        "acc = history.history['accuracy']\n",
        "val_acc = history.history['val_accuracy']\n",
        "\n",
        "loss = history.history['loss']\n",
        "val_loss = history.history['val_loss']\n",
        "\n",
        "epochs = 20\n",
        "epochs_range = range(0, len(acc))\n",
        "\n",
        "plt.figure(figsize=(12,5))\n",
        "plt.subplot(1, 2, 1)\n",
        "plt.plot(epochs_range, acc, label='Training Accuracy')\n",
        "plt.plot(epochs_range, val_acc, label='Validation Accuracy')\n",
        "plt.xlabel(\"Epochs\")\n",
        "plt.ylabel(\"Accuracy\")\n",
        "plt.ylim([0,1])\n",
        "plt.legend()\n",
        "plt.title('Training and Validation Accuracy')\n",
        "\n",
        "plt.subplot(1, 2, 2)\n",
        "plt.plot(epochs_range, loss, label='Training Loss')\n",
        "plt.plot(epochs_range, val_loss, label='Validation Loss')\n",
        "plt.xlabel(\"Epochs\")\n",
        "plt.ylabel(\"Loss\")\n",
        "plt.legend()\n",
        "plt.title('Training and Validation Loss')\n",
        "plt.show()"
      ],
      "metadata": {
        "id": "dX6LSLSCwwTO",
        "outputId": "eb7cae7b-1cc7-4d87-f171-87ddc8ec47d8",
        "colab": {
          "base_uri": "https://localhost:8080/",
          "height": 350
        }
      },
      "execution_count": 18,
      "outputs": [
        {
          "output_type": "display_data",
          "data": {
            "text/plain": [
              "<Figure size 864x360 with 2 Axes>"
            ],
            "image/png": "[encoded data removed]"
          },
          "metadata": {
            "needs_background": "light"
          }
        }
      ]
    },
    {
      "cell_type": "markdown",
      "source": [
        "### Evaluate the model on the test dataset"
      ],
      "metadata": {
        "id": "JuvMAjwJmkE3"
      }
    },
    {
      "cell_type": "code",
      "source": [
        "test_loss, test_acc = model.evaluate(padded_test_seq, test_labels)\n",
        "print('Test Loss:', test_loss)\n",
        "print('Test Accuracy:', test_acc)"
      ],
      "metadata": {
        "id": "LTFrEOYYwwcp",
        "outputId": "5f608afa-312c-4541-9059-513066dfb6e0",
        "colab": {
          "base_uri": "https://localhost:8080/"
        }
      },
      "execution_count": 19,
      "outputs": [
        {
          "output_type": "stream",
          "name": "stdout",
          "text": [
            "63/63 [==============================] - 0s 6ms/step - loss: 0.3747 - accuracy: 0.8565\n",
            "Test Loss: 0.3746528923511505\n",
            "Test Accuracy: 0.8565000295639038\n"
          ]
        }
      ]
    },
    {
      "cell_type": "code",
      "source": [
        ""
      ],
      "metadata": {
        "id": "37Y0nWoAn-Si"
      },
      "execution_count": 19,
      "outputs": []
    }
  ]
}
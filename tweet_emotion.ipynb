{
  "nbformat": 4,
  "nbformat_minor": 0,
  "metadata": {
    "colab": {
      "name": "tweet_emotion.ipynb",
      "provenance": [],
      "machine_shape": "hm",
      "authorship_tag": "ABX9TyO5yCkp99OeLji77I0JZKqn",
      "include_colab_link": true
    },
    "kernelspec": {
      "name": "python3",
      "display_name": "Python 3"
    },
    "language_info": {
      "name": "python"
    },
    "accelerator": "GPU"
  },
  "cells": [
    {
      "cell_type": "markdown",
      "metadata": {
        "id": "view-in-github",
        "colab_type": "text"
      },
      "source": [
        "<a href=\"https://colab.research.google.com/github/shazzad-hasan/tensorflow-projects/blob/main/tweet_emotion.ipynb\" target=\"_parent\"><img src=\"https://colab.research.google.com/assets/colab-badge.svg\" alt=\"Open In Colab\"/></a>"
      ]
    },
    {
      "cell_type": "markdown",
      "source": [
        "In this notebook, we will train a model to recognize tweet emotion using the huggingface [emotion](https://huggingface.co/datasets/emotion) dataset. Emotion is a dataset of English Twitter messages with six basic emotions: anger, fear, joy, love, sadness, and surprise. The process will be broken down into the following steps:\n",
        "\n",
        "1.   Load and visualize the dataset\n",
        "2.   Preprocess the dataset\n",
        "3.   Define a neural network\n",
        "4.   Define a loss function and optimizer\n",
        "5.   Train and validate the model\n",
        "6.   Evaluate the performance of the model on the test dataset\n",
        "\n"
      ],
      "metadata": {
        "id": "u4QkWPcg9phN"
      }
    },
    {
      "cell_type": "code",
      "execution_count": 1,
      "metadata": {
        "id": "Zh2xjM0J8uRG",
        "outputId": "406c6b5e-21fc-43e4-f888-24c6cf33b62c",
        "colab": {
          "base_uri": "https://localhost:8080/"
        }
      },
      "outputs": [
        {
          "output_type": "stream",
          "name": "stdout",
          "text": [
            "Looking in indexes: https://pypi.org/simple, https://us-python.pkg.dev/colab-wheels/public/simple/\n",
            "Requirement already satisfied: nlp in /usr/local/lib/python3.7/dist-packages (0.4.0)\n",
            "Requirement already satisfied: xxhash in /usr/local/lib/python3.7/dist-packages (from nlp) (3.0.0)\n",
            "Requirement already satisfied: dill in /usr/local/lib/python3.7/dist-packages (from nlp) (0.3.5.1)\n",
            "Requirement already satisfied: numpy in /usr/local/lib/python3.7/dist-packages (from nlp) (1.21.6)\n",
            "Requirement already satisfied: pyarrow>=0.16.0 in /usr/local/lib/python3.7/dist-packages (from nlp) (6.0.1)\n",
            "Requirement already satisfied: filelock in /usr/local/lib/python3.7/dist-packages (from nlp) (3.7.0)\n",
            "Requirement already satisfied: tqdm>=4.27 in /usr/local/lib/python3.7/dist-packages (from nlp) (4.64.0)\n",
            "Requirement already satisfied: pandas in /usr/local/lib/python3.7/dist-packages (from nlp) (1.3.5)\n",
            "Requirement already satisfied: requests>=2.19.0 in /usr/local/lib/python3.7/dist-packages (from nlp) (2.23.0)\n",
            "Requirement already satisfied: idna<3,>=2.5 in /usr/local/lib/python3.7/dist-packages (from requests>=2.19.0->nlp) (2.10)\n",
            "Requirement already satisfied: chardet<4,>=3.0.2 in /usr/local/lib/python3.7/dist-packages (from requests>=2.19.0->nlp) (3.0.4)\n",
            "Requirement already satisfied: urllib3!=1.25.0,!=1.25.1,<1.26,>=1.21.1 in /usr/local/lib/python3.7/dist-packages (from requests>=2.19.0->nlp) (1.24.3)\n",
            "Requirement already satisfied: certifi>=2017.4.17 in /usr/local/lib/python3.7/dist-packages (from requests>=2.19.0->nlp) (2022.5.18.1)\n",
            "Requirement already satisfied: python-dateutil>=2.7.3 in /usr/local/lib/python3.7/dist-packages (from pandas->nlp) (2.8.2)\n",
            "Requirement already satisfied: pytz>=2017.3 in /usr/local/lib/python3.7/dist-packages (from pandas->nlp) (2022.1)\n",
            "Requirement already satisfied: six>=1.5 in /usr/local/lib/python3.7/dist-packages (from python-dateutil>=2.7.3->pandas->nlp) (1.15.0)\n"
          ]
        }
      ],
      "source": [
        "!pip install nlp"
      ]
    },
    {
      "cell_type": "code",
      "source": [
        "# import required libraries\n",
        "\n",
        "import numpy as np\n",
        "import random\n",
        "import matplotlib.pyplot as plt\n",
        "\n",
        "%matplotlib inline"
      ],
      "metadata": {
        "id": "m2UyD7_l_gXv"
      },
      "execution_count": 2,
      "outputs": []
    },
    {
      "cell_type": "markdown",
      "source": [
        "### Load and visualize dataset"
      ],
      "metadata": {
        "id": "xq5kADUCUK1L"
      }
    },
    {
      "cell_type": "code",
      "source": [
        "import nlp\n",
        "\n",
        "# load tweet emotion dataset from huggingface nlp module\n",
        "dataset = nlp.load_dataset(\"emotion\")"
      ],
      "metadata": {
        "id": "s2CBixsBFZYH",
        "outputId": "0a18720e-25a9-4b27-e41b-88e23fcf9938",
        "colab": {
          "base_uri": "https://localhost:8080/"
        }
      },
      "execution_count": 3,
      "outputs": [
        {
          "output_type": "stream",
          "name": "stderr",
          "text": [
            "Using custom data configuration default\n"
          ]
        }
      ]
    },
    {
      "cell_type": "code",
      "source": [
        "dataset"
      ],
      "metadata": {
        "id": "m5e-iqaqRDPo",
        "outputId": "1fd9e89e-03b1-4837-e74f-8292743185c3",
        "colab": {
          "base_uri": "https://localhost:8080/"
        }
      },
      "execution_count": 4,
      "outputs": [
        {
          "output_type": "execute_result",
          "data": {
            "text/plain": [
              "{'test': Dataset(features: {'text': Value(dtype='string', id=None), 'label': Value(dtype='string', id=None)}, num_rows: 2000),\n",
              " 'train': Dataset(features: {'text': Value(dtype='string', id=None), 'label': Value(dtype='string', id=None)}, num_rows: 16000),\n",
              " 'validation': Dataset(features: {'text': Value(dtype='string', id=None), 'label': Value(dtype='string', id=None)}, num_rows: 2000)}"
            ]
          },
          "metadata": {},
          "execution_count": 4
        }
      ]
    },
    {
      "cell_type": "code",
      "source": [
        "train_data = dataset['train']\n",
        "valid_data = dataset['validation']\n",
        "test_data = dataset['test']"
      ],
      "metadata": {
        "id": "SA4bczcnLVKm"
      },
      "execution_count": 5,
      "outputs": []
    },
    {
      "cell_type": "code",
      "source": [
        "# obtain tweets and labels from the data\n",
        "def get_tweet(data):\n",
        "  tweets = [x['text'] for x in data] # obtain tweets\n",
        "  labels = [x['label'] for x in data] # obtain tweets labels\n",
        "  return tweets, labels\n",
        "\n",
        "# obtain training, validation and test  tweets, labels \n",
        "train_tweets, train_labels = get_tweet(train_data)\n",
        "valid_tweets, valid_labels = get_tweet(valid_data)\n",
        "test_tweets, test_labels = get_tweet(test_data)\n",
        "\n",
        "\n",
        "# let's see first 10 tweets and corresponding labels\n",
        "for i in range(10):\n",
        "  print(\"({}, {})\".format(train_tweets[i], train_labels[i]))"
      ],
      "metadata": {
        "id": "PO5cWTKlRBY_",
        "outputId": "4a68c05d-2dd7-4d76-d64e-537a175c7059",
        "colab": {
          "base_uri": "https://localhost:8080/"
        }
      },
      "execution_count": 6,
      "outputs": [
        {
          "output_type": "stream",
          "name": "stdout",
          "text": [
            "(i didnt feel humiliated, sadness)\n",
            "(i can go from feeling so hopeless to so damned hopeful just from being around someone who cares and is awake, sadness)\n",
            "(im grabbing a minute to post i feel greedy wrong, anger)\n",
            "(i am ever feeling nostalgic about the fireplace i will know that it is still on the property, love)\n",
            "(i am feeling grouchy, anger)\n",
            "(ive been feeling a little burdened lately wasnt sure why that was, sadness)\n",
            "(ive been taking or milligrams or times recommended amount and ive fallen asleep a lot faster but i also feel like so funny, surprise)\n",
            "(i feel as confused about life as a teenager or as jaded as a year old man, fear)\n",
            "(i have been with petronas for years i feel that petronas has performed well and made a huge profit, joy)\n",
            "(i feel romantic too, love)\n"
          ]
        }
      ]
    },
    {
      "cell_type": "code",
      "source": [
        ""
      ],
      "metadata": {
        "id": "x-1QBUB81FOu"
      },
      "execution_count": 6,
      "outputs": []
    },
    {
      "cell_type": "markdown",
      "source": [
        "### Pre-process the dataset"
      ],
      "metadata": {
        "id": "AqNDfcCMURxo"
      }
    },
    {
      "cell_type": "markdown",
      "source": [
        "#### Prepare tweets"
      ],
      "metadata": {
        "id": "Vinn7ftqfCzH"
      }
    },
    {
      "cell_type": "markdown",
      "source": [
        "##### Tokenize the tweets"
      ],
      "metadata": {
        "id": "9ZNfRZFWbuyP"
      }
    },
    {
      "cell_type": "code",
      "source": [
        "from tensorflow.keras.preprocessing.text import Tokenizer\n",
        "\n",
        "# let's tokenize 10,000 most commonly used words\n",
        "tokenizer = Tokenizer(num_words=1000, oov_token=\"UNK\")\n",
        "tokenizer.fit_on_texts(train_tweets)"
      ],
      "metadata": {
        "id": "KAnS8psxRBcO"
      },
      "execution_count": 7,
      "outputs": []
    },
    {
      "cell_type": "code",
      "source": [
        "# lets see the tokinization of a tweet\n",
        "print(\"{} ---> {}\".format(train_tweets[0], tokenizer.texts_to_sequences([train_tweets[0]])))"
      ],
      "metadata": {
        "id": "KH1-xRbEb6eQ",
        "outputId": "2542dc8e-d809-4a18-d1b5-5a6b49ceeefd",
        "colab": {
          "base_uri": "https://localhost:8080/"
        }
      },
      "execution_count": 8,
      "outputs": [
        {
          "output_type": "stream",
          "name": "stdout",
          "text": [
            "i didnt feel humiliated ---> [[2, 139, 3, 679]]\n"
          ]
        }
      ]
    },
    {
      "cell_type": "markdown",
      "source": [
        "##### Padding and Truncating sequences"
      ],
      "metadata": {
        "id": "-dnB-6XZbyq1"
      }
    },
    {
      "cell_type": "code",
      "source": [
        "# check length of the tweets\n",
        "lengths = [len(twt.split(\" \")) for twt in train_tweets]\n",
        "plt.hist(lengths, bins=len(set(lengths)))\n",
        "plt.show()"
      ],
      "metadata": {
        "id": "wAKET1tnRBhl",
        "outputId": "9670f329-e70d-40cd-da8e-68b240052583",
        "colab": {
          "base_uri": "https://localhost:8080/",
          "height": 265
        }
      },
      "execution_count": 9,
      "outputs": [
        {
          "output_type": "display_data",
          "data": {
            "text/plain": [
              "<Figure size 432x288 with 1 Axes>"
            ],
            "image/png": "[encoded data removed]"
          },
          "metadata": {
            "needs_background": "light"
          }
        }
      ]
    },
    {
      "cell_type": "code",
      "source": [
        "from tensorflow.keras.preprocessing.sequence import pad_sequences\n",
        "\n",
        "maxlen = 50\n",
        "\n",
        "def get_sequences(tokenizer, tweets):\n",
        "  # tokenize tweets\n",
        "  sequences = tokenizer.texts_to_sequences(tweets)\n",
        "  # obtain padded and truncated sequences\n",
        "  padded_seqs = pad_sequences(sequences, truncating=\"post\", padding=\"post\", maxlen=maxlen)\n",
        "  return padded_seqs"
      ],
      "metadata": {
        "id": "vo-GTlIwZI6b"
      },
      "execution_count": 10,
      "outputs": []
    },
    {
      "cell_type": "code",
      "source": [
        "# obtain padded and truncated training sequences\n",
        "padded_train_seq = get_sequences(tokenizer, train_tweets)\n",
        "padded_valid_seq = get_sequences(tokenizer, valid_tweets)\n",
        "padded_test_seq = get_sequences(tokenizer, test_tweets)\n",
        "\n",
        "print(\"{}, \\n{}\".format(train_tweets[0], padded_train_seq[0]))"
      ],
      "metadata": {
        "id": "ty3OxRjEdCu1",
        "outputId": "d927c6c4-c9e9-457e-8124-ce42eaea3797",
        "colab": {
          "base_uri": "https://localhost:8080/"
        }
      },
      "execution_count": 11,
      "outputs": [
        {
          "output_type": "stream",
          "name": "stdout",
          "text": [
            "i didnt feel humiliated, \n",
            "[  2 139   3 679   0   0   0   0   0   0   0   0   0   0   0   0   0   0\n",
            "   0   0   0   0   0   0   0   0   0   0   0   0   0   0   0   0   0   0\n",
            "   0   0   0   0   0   0   0   0   0   0   0   0   0   0]\n"
          ]
        }
      ]
    },
    {
      "cell_type": "markdown",
      "source": [
        "#### Prepare labels"
      ],
      "metadata": {
        "id": "uzcU8qX2fILN"
      }
    },
    {
      "cell_type": "code",
      "source": [
        "classes = set(train_labels)\n",
        "print(classes)"
      ],
      "metadata": {
        "id": "-abhXUKDdl5m",
        "outputId": "6cfc9e7e-432e-4f7a-93d3-cf45448cbd1e",
        "colab": {
          "base_uri": "https://localhost:8080/"
        }
      },
      "execution_count": 12,
      "outputs": [
        {
          "output_type": "stream",
          "name": "stdout",
          "text": [
            "{'fear', 'joy', 'anger', 'surprise', 'love', 'sadness'}\n"
          ]
        }
      ]
    },
    {
      "cell_type": "code",
      "source": [
        "plt.hist(train_labels, bins=12)\n",
        "plt.show()"
      ],
      "metadata": {
        "id": "s2tmG6YYkwQn",
        "outputId": "5b6057dd-d4eb-40fc-8a8f-601800c6894b",
        "colab": {
          "base_uri": "https://localhost:8080/",
          "height": 265
        }
      },
      "execution_count": 13,
      "outputs": [
        {
          "output_type": "display_data",
          "data": {
            "text/plain": [
              "<Figure size 432x288 with 1 Axes>"
            ],
            "image/png": "[encoded data removed]"
          },
          "metadata": {
            "needs_background": "light"
          }
        }
      ]
    },
    {
      "cell_type": "code",
      "source": [
        "class_to_idx = dict((c, i) for i, c in enumerate(classes))\n",
        "idx_to_class = dict((v, k) for k, v in class_to_idx.items())\n",
        "\n",
        "print(class_to_idx)\n",
        "print(idx_to_class)"
      ],
      "metadata": {
        "id": "Wl2Ix2kyk80f",
        "outputId": "755a6432-e4a6-4634-c825-d25659c0ffa5",
        "colab": {
          "base_uri": "https://localhost:8080/"
        }
      },
      "execution_count": 14,
      "outputs": [
        {
          "output_type": "stream",
          "name": "stdout",
          "text": [
            "{'fear': 0, 'joy': 1, 'anger': 2, 'surprise': 3, 'love': 4, 'sadness': 5}\n",
            "{0: 'fear', 1: 'joy', 2: 'anger', 3: 'surprise', 4: 'love', 5: 'sadness'}\n"
          ]
        }
      ]
    },
    {
      "cell_type": "code",
      "source": [
        "names_to_ids = lambda labels: np.array([class_to_idx.get(x) for x in labels])\n",
        "\n",
        "train_labels = names_to_ids(train_labels)\n",
        "valid_labels = names_to_ids(valid_labels)\n",
        "test_labels = names_to_ids(test_labels)\n",
        "\n",
        "print(train_labels[0])"
      ],
      "metadata": {
        "id": "OdCobuLBl9jx",
        "outputId": "5b8b7667-403c-4657-f27e-d6093c6d4840",
        "colab": {
          "base_uri": "https://localhost:8080/"
        }
      },
      "execution_count": 15,
      "outputs": [
        {
          "output_type": "stream",
          "name": "stdout",
          "text": [
            "5\n"
          ]
        }
      ]
    },
    {
      "cell_type": "markdown",
      "source": [
        "### Define a neural network"
      ],
      "metadata": {
        "id": "Vty6NyyIplEH"
      }
    },
    {
      "cell_type": "code",
      "source": [
        "from tensorflow import keras\n",
        "from tensorflow.keras import layers\n",
        "\n",
        "model = keras.models.Sequential([\n",
        "            layers.Embedding(10000, 16, input_length=maxlen),\n",
        "            layers.Bidirectional(keras.layers.LSTM(20, return_sequences=True)),\n",
        "            layers.Bidirectional(keras.layers.LSTM(20)),\n",
        "            layers.Dense(6, activation=\"softmax\")\n",
        "])\n",
        "\n",
        "model.summary()"
      ],
      "metadata": {
        "id": "ccAnwNghmYvf",
        "outputId": "3518e77b-b0a6-4835-eac3-4f0c62328a86",
        "colab": {
          "base_uri": "https://localhost:8080/"
        }
      },
      "execution_count": 16,
      "outputs": [
        {
          "output_type": "stream",
          "name": "stdout",
          "text": [
            "Model: \"sequential\"\n",
            "_________________________________________________________________\n",
            " Layer (type)                Output Shape              Param #   \n",
            "=================================================================\n",
            " embedding (Embedding)       (None, 50, 16)            160000    \n",
            "                                                                 \n",
            " bidirectional (Bidirectiona  (None, 50, 40)           5920      \n",
            " l)                                                              \n",
            "                                                                 \n",
            " bidirectional_1 (Bidirectio  (None, 40)               9760      \n",
            " nal)                                                            \n",
            "                                                                 \n",
            " dense (Dense)               (None, 6)                 246       \n",
            "                                                                 \n",
            "=================================================================\n",
            "Total params: 175,926\n",
            "Trainable params: 175,926\n",
            "Non-trainable params: 0\n",
            "_________________________________________________________________\n"
          ]
        }
      ]
    },
    {
      "cell_type": "code",
      "source": [
        "model.compile(optimizer=\"adam\", loss=\"sparse_categorical_crossentropy\", metrics=[\"accuracy\"])\n",
        "\n",
        "callbacks=[keras.callbacks.EarlyStopping(monitor=\"val_accuracy\", patience=2)]\n",
        "history = model.fit(padded_train_seq, train_labels, \n",
        "                    validation_data=(padded_valid_seq, valid_labels),\n",
        "                    epochs=20,\n",
        "                    callbacks=callbacks)"
      ],
      "metadata": {
        "id": "YOX4sIsRwwOs",
        "outputId": "63002d3e-b51b-462f-c4b1-ad6603a6e732",
        "colab": {
          "base_uri": "https://localhost:8080/"
        }
      },
      "execution_count": 17,
      "outputs": [
        {
          "output_type": "stream",
          "name": "stdout",
          "text": [
            "Epoch 1/20\n",
            "500/500 [==============================] - 13s 13ms/step - loss: 1.2992 - accuracy: 0.4851 - val_loss: 0.8450 - val_accuracy: 0.6820\n",
            "Epoch 2/20\n",
            "500/500 [==============================] - 5s 10ms/step - loss: 0.6555 - accuracy: 0.7711 - val_loss: 0.6053 - val_accuracy: 0.7915\n",
            "Epoch 3/20\n",
            "500/500 [==============================] - 5s 10ms/step - loss: 0.5066 - accuracy: 0.8231 - val_loss: 0.5384 - val_accuracy: 0.8090\n",
            "Epoch 4/20\n",
            "500/500 [==============================] - 5s 10ms/step - loss: 0.4328 - accuracy: 0.8523 - val_loss: 0.4819 - val_accuracy: 0.8335\n",
            "Epoch 5/20\n",
            "500/500 [==============================] - 5s 10ms/step - loss: 0.3808 - accuracy: 0.8659 - val_loss: 0.4349 - val_accuracy: 0.8560\n",
            "Epoch 6/20\n",
            "500/500 [==============================] - 5s 11ms/step - loss: 0.3482 - accuracy: 0.8752 - val_loss: 0.4132 - val_accuracy: 0.8550\n",
            "Epoch 7/20\n",
            "500/500 [==============================] - 5s 11ms/step - loss: 0.3222 - accuracy: 0.8814 - val_loss: 0.4129 - val_accuracy: 0.8525\n"
          ]
        }
      ]
    },
    {
      "cell_type": "code",
      "source": [
        "acc = history.history['accuracy']\n",
        "val_acc = history.history['val_accuracy']\n",
        "\n",
        "loss = history.history['loss']\n",
        "val_loss = history.history['val_loss']\n",
        "\n",
        "epochs = 20\n",
        "epochs_range = range(0, len(acc))\n",
        "\n",
        "plt.figure(figsize=(12,5))\n",
        "plt.subplot(1, 2, 1)\n",
        "plt.plot(epochs_range, acc, label='Training Accuracy')\n",
        "plt.plot(epochs_range, val_acc, label='Validation Accuracy')\n",
        "plt.xlabel(\"Epochs\")\n",
        "plt.ylabel(\"Accuracy\")\n",
        "plt.ylim([0,1])\n",
        "plt.legend()\n",
        "plt.title('Training and Validation Accuracy')\n",
        "\n",
        "plt.subplot(1, 2, 2)\n",
        "plt.plot(epochs_range, loss, label='Training Loss')\n",
        "plt.plot(epochs_range, val_loss, label='Validation Loss')\n",
        "plt.xlabel(\"Epochs\")\n",
        "plt.ylabel(\"Loss\")\n",
        "plt.legend()\n",
        "plt.title('Training and Validation Loss')\n",
        "plt.show()"
      ],
      "metadata": {
        "id": "dX6LSLSCwwTO",
        "outputId": "0d2537e3-5bdd-4672-ddbc-631410e78634",
        "colab": {
          "base_uri": "https://localhost:8080/",
          "height": 350
        }
      },
      "execution_count": 18,
      "outputs": [
        {
          "output_type": "display_data",
          "data": {
            "text/plain": [
              "<Figure size 864x360 with 2 Axes>"
            ],
            "image/png": "[encoded data removed]"
          },
          "metadata": {
            "needs_background": "light"
          }
        }
      ]
    },
    {
      "cell_type": "markdown",
      "source": [
        "### Evaluate the model on the test dataset"
      ],
      "metadata": {
        "id": "JuvMAjwJmkE3"
      }
    },
    {
      "cell_type": "code",
      "source": [
        "test_loss, test_acc = model.evaluate(padded_test_seq, test_labels)\n",
        "print('Test Loss:', test_loss)\n",
        "print('Test Accuracy:', test_acc)"
      ],
      "metadata": {
        "id": "LTFrEOYYwwcp",
        "outputId": "86923cde-d004-4163-f56b-0e23097796b9",
        "colab": {
          "base_uri": "https://localhost:8080/"
        }
      },
      "execution_count": 19,
      "outputs": [
        {
          "output_type": "stream",
          "name": "stdout",
          "text": [
            "63/63 [==============================] - 0s 5ms/step - loss: 0.4065 - accuracy: 0.8595\n",
            "Test Loss: 0.4064711332321167\n",
            "Test Accuracy: 0.859499990940094\n"
          ]
        }
      ]
    },
    {
      "cell_type": "code",
      "source": [
        "i = random.randint(0, len(test_labels)-1)\n",
        "\n",
        "print(\"Sentence: \", test_tweets[i])\n",
        "print(\"Emotion: \", idx_to_class[test_labels[i]])\n",
        "\n",
        "p = model.predict(np.expand_dims(padded_test_seq[i], axis=0))[0]\n",
        "pred_class = idx_to_class[np.argmax(p).astype(\"uint8\")]\n",
        "print(\"Predicted Emotion: \", pred_class)"
      ],
      "metadata": {
        "id": "37Y0nWoAn-Si",
        "outputId": "219bffba-75a4-4b4d-ed43-4ad59d25e3c2",
        "colab": {
          "base_uri": "https://localhost:8080/"
        }
      },
      "execution_count": 20,
      "outputs": [
        {
          "output_type": "stream",
          "name": "stdout",
          "text": [
            "Sentence:  i know that you feel pretty disgusted by the nonstop lefty propaganda the ministry churns out but of the public isn t that tuned in\n",
            "Emotion:  anger\n",
            "Predicted Emotion:  anger\n"
          ]
        }
      ]
    },
    {
      "cell_type": "code",
      "source": [
        ""
      ],
      "metadata": {
        "id": "jFW7ivUEF0gt"
      },
      "execution_count": null,
      "outputs": []
    }
  ]
}